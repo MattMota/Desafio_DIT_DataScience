{
 "cells": [
  {
   "cell_type": "code",
   "execution_count": 21,
   "metadata": {},
   "outputs": [
    {
     "name": "stdout",
     "output_type": "stream",
     "text": [
      "Requirement already satisfied: pandas in c:\\users\\mathe\\appdata\\local\\programs\\python\\python312\\lib\\site-packages (2.2.3)\n",
      "Requirement already satisfied: numpy>=1.26.0 in c:\\users\\mathe\\appdata\\local\\programs\\python\\python312\\lib\\site-packages (from pandas) (2.2.3)\n",
      "Requirement already satisfied: python-dateutil>=2.8.2 in c:\\users\\mathe\\appdata\\local\\programs\\python\\python312\\lib\\site-packages (from pandas) (2.9.0.post0)\n",
      "Requirement already satisfied: pytz>=2020.1 in c:\\users\\mathe\\appdata\\local\\programs\\python\\python312\\lib\\site-packages (from pandas) (2025.1)\n",
      "Requirement already satisfied: tzdata>=2022.7 in c:\\users\\mathe\\appdata\\local\\programs\\python\\python312\\lib\\site-packages (from pandas) (2025.1)\n",
      "Requirement already satisfied: six>=1.5 in c:\\users\\mathe\\appdata\\local\\programs\\python\\python312\\lib\\site-packages (from python-dateutil>=2.8.2->pandas) (1.17.0)\n"
     ]
    },
    {
     "name": "stderr",
     "output_type": "stream",
     "text": [
      "\n",
      "[notice] A new release of pip is available: 24.2 -> 25.0.1\n",
      "[notice] To update, run: python.exe -m pip install --upgrade pip\n"
     ]
    }
   ],
   "source": [
    "!pip install pandas"
   ]
  },
  {
   "cell_type": "code",
   "execution_count": 22,
   "metadata": {},
   "outputs": [],
   "source": [
    "import sys\n",
    "sys.path.append(\"../\")\n",
    "\n",
    "import python.utils as utils\n",
    "import pandas as pd\n",
    "import re\n",
    "\n",
    "from python.constants import PATHS"
   ]
  },
  {
   "cell_type": "markdown",
   "metadata": {},
   "source": [
    "# Tratamento Pré-análise"
   ]
  },
  {
   "cell_type": "code",
   "execution_count": 23,
   "metadata": {},
   "outputs": [
    {
     "data": {
      "text/html": [
       "<div>\n",
       "<style scoped>\n",
       "    .dataframe tbody tr th:only-of-type {\n",
       "        vertical-align: middle;\n",
       "    }\n",
       "\n",
       "    .dataframe tbody tr th {\n",
       "        vertical-align: top;\n",
       "    }\n",
       "\n",
       "    .dataframe thead th {\n",
       "        text-align: right;\n",
       "    }\n",
       "</style>\n",
       "<table border=\"1\" class=\"dataframe\">\n",
       "  <thead>\n",
       "    <tr style=\"text-align: right;\">\n",
       "      <th></th>\n",
       "      <th>id_paciente</th>\n",
       "      <th>sexo</th>\n",
       "      <th>obito</th>\n",
       "      <th>bairro</th>\n",
       "      <th>raca_cor</th>\n",
       "      <th>ocupacao</th>\n",
       "      <th>religiao</th>\n",
       "      <th>luz_eletrica</th>\n",
       "      <th>data_cadastro</th>\n",
       "      <th>escolaridade</th>\n",
       "      <th>...</th>\n",
       "      <th>familia_beneficiaria_auxilio_brasil</th>\n",
       "      <th>crianca_matriculada_creche_pre_escola</th>\n",
       "      <th>altura</th>\n",
       "      <th>peso</th>\n",
       "      <th>pressao_sistolica</th>\n",
       "      <th>pressao_diastolica</th>\n",
       "      <th>n_atendimentos_atencao_primaria</th>\n",
       "      <th>n_atendimentos_hospital</th>\n",
       "      <th>updated_at</th>\n",
       "      <th>tipo</th>\n",
       "    </tr>\n",
       "  </thead>\n",
       "  <tbody>\n",
       "    <tr>\n",
       "      <th>0</th>\n",
       "      <td>cd6daa6e-038d-4952-af29-579e62e07f97</td>\n",
       "      <td>male</td>\n",
       "      <td>0</td>\n",
       "      <td>Parada de Lucas</td>\n",
       "      <td>Branca</td>\n",
       "      <td>Não se aplica</td>\n",
       "      <td>Sem religião</td>\n",
       "      <td>True</td>\n",
       "      <td>2021-06-24 00:00:00.000</td>\n",
       "      <td>Fundamental Incompleto</td>\n",
       "      <td>...</td>\n",
       "      <td>0</td>\n",
       "      <td>0</td>\n",
       "      <td>172.0</td>\n",
       "      <td>52.5</td>\n",
       "      <td>110.0</td>\n",
       "      <td>70.0</td>\n",
       "      <td>8</td>\n",
       "      <td>9</td>\n",
       "      <td>2021-06-01 00:00:00.000</td>\n",
       "      <td>historico</td>\n",
       "    </tr>\n",
       "    <tr>\n",
       "      <th>1</th>\n",
       "      <td>ad6cecb2-3a44-49ab-b2f3-6f9ffc2e2ec7</td>\n",
       "      <td>male</td>\n",
       "      <td>0</td>\n",
       "      <td>Cidade Nova</td>\n",
       "      <td>Parda</td>\n",
       "      <td>Assistente Administrativo</td>\n",
       "      <td>Evangélica</td>\n",
       "      <td>1</td>\n",
       "      <td>2021-01-07 00:00:00.000</td>\n",
       "      <td>Médio Incompleto</td>\n",
       "      <td>...</td>\n",
       "      <td>1</td>\n",
       "      <td>0</td>\n",
       "      <td>158.0</td>\n",
       "      <td>76.2</td>\n",
       "      <td>140.0</td>\n",
       "      <td>80.0</td>\n",
       "      <td>0</td>\n",
       "      <td>6</td>\n",
       "      <td>2020-06-25 00:00:00.000</td>\n",
       "      <td>historico</td>\n",
       "    </tr>\n",
       "    <tr>\n",
       "      <th>2</th>\n",
       "      <td>54e834e7-e722-4daa-8909-cf917a1247e6</td>\n",
       "      <td>male</td>\n",
       "      <td>0</td>\n",
       "      <td>Santa cruz</td>\n",
       "      <td>Parda</td>\n",
       "      <td>Não se aplica</td>\n",
       "      <td>Católica</td>\n",
       "      <td>1</td>\n",
       "      <td>2021-02-18 00:00:00.000</td>\n",
       "      <td>Fundamental Completo</td>\n",
       "      <td>...</td>\n",
       "      <td>0</td>\n",
       "      <td>0</td>\n",
       "      <td>53.0</td>\n",
       "      <td>82.5</td>\n",
       "      <td>180.0</td>\n",
       "      <td>60.0</td>\n",
       "      <td>5</td>\n",
       "      <td>2</td>\n",
       "      <td>2020-03-02 00:00:00.000</td>\n",
       "      <td>historico</td>\n",
       "    </tr>\n",
       "    <tr>\n",
       "      <th>3</th>\n",
       "      <td>c6a71e5e-0933-48d1-9d5a-8f448dc37f71</td>\n",
       "      <td>female</td>\n",
       "      <td>False</td>\n",
       "      <td>Bangu</td>\n",
       "      <td>Branca</td>\n",
       "      <td>Representante Comercial Autônomo</td>\n",
       "      <td>Sem religião</td>\n",
       "      <td>1</td>\n",
       "      <td>2022-03-09 10:40:37</td>\n",
       "      <td>Alfabetizado</td>\n",
       "      <td>...</td>\n",
       "      <td>1</td>\n",
       "      <td>1</td>\n",
       "      <td>164.0</td>\n",
       "      <td>90.6</td>\n",
       "      <td>120.0</td>\n",
       "      <td>70.0</td>\n",
       "      <td>0</td>\n",
       "      <td>27</td>\n",
       "      <td>2021-11-05 11:08:17.477</td>\n",
       "      <td>rotineiro</td>\n",
       "    </tr>\n",
       "    <tr>\n",
       "      <th>4</th>\n",
       "      <td>d5262a3c-e5d3-4195-a46b-0acd2533e1d6</td>\n",
       "      <td>male</td>\n",
       "      <td>0</td>\n",
       "      <td>Santíssimo</td>\n",
       "      <td>Branca</td>\n",
       "      <td>Técnico Eletricista</td>\n",
       "      <td>Outra</td>\n",
       "      <td>True</td>\n",
       "      <td>2022-12-13 18:30:45</td>\n",
       "      <td>Médio Completo</td>\n",
       "      <td>...</td>\n",
       "      <td>0</td>\n",
       "      <td>0</td>\n",
       "      <td>154.0</td>\n",
       "      <td>8.5</td>\n",
       "      <td>180.0</td>\n",
       "      <td>80.0</td>\n",
       "      <td>25</td>\n",
       "      <td>0</td>\n",
       "      <td>2020-11-11 00:00:00.000</td>\n",
       "      <td>historico</td>\n",
       "    </tr>\n",
       "  </tbody>\n",
       "</table>\n",
       "<p>5 rows × 35 columns</p>\n",
       "</div>"
      ],
      "text/plain": [
       "                            id_paciente    sexo  obito           bairro  \\\n",
       "0  cd6daa6e-038d-4952-af29-579e62e07f97    male      0  Parada de Lucas   \n",
       "1  ad6cecb2-3a44-49ab-b2f3-6f9ffc2e2ec7    male      0      Cidade Nova   \n",
       "2  54e834e7-e722-4daa-8909-cf917a1247e6    male      0       Santa cruz   \n",
       "3  c6a71e5e-0933-48d1-9d5a-8f448dc37f71  female  False            Bangu   \n",
       "4  d5262a3c-e5d3-4195-a46b-0acd2533e1d6    male      0       Santíssimo   \n",
       "\n",
       "  raca_cor                          ocupacao      religiao luz_eletrica  \\\n",
       "0   Branca                     Não se aplica  Sem religião         True   \n",
       "1    Parda         Assistente Administrativo    Evangélica            1   \n",
       "2    Parda                     Não se aplica      Católica            1   \n",
       "3   Branca  Representante Comercial Autônomo  Sem religião            1   \n",
       "4   Branca               Técnico Eletricista         Outra         True   \n",
       "\n",
       "             data_cadastro            escolaridade  ...  \\\n",
       "0  2021-06-24 00:00:00.000  Fundamental Incompleto  ...   \n",
       "1  2021-01-07 00:00:00.000        Médio Incompleto  ...   \n",
       "2  2021-02-18 00:00:00.000    Fundamental Completo  ...   \n",
       "3      2022-03-09 10:40:37            Alfabetizado  ...   \n",
       "4      2022-12-13 18:30:45          Médio Completo  ...   \n",
       "\n",
       "  familia_beneficiaria_auxilio_brasil crianca_matriculada_creche_pre_escola  \\\n",
       "0                                   0                                     0   \n",
       "1                                   1                                     0   \n",
       "2                                   0                                     0   \n",
       "3                                   1                                     1   \n",
       "4                                   0                                     0   \n",
       "\n",
       "  altura  peso  pressao_sistolica pressao_diastolica  \\\n",
       "0  172.0  52.5              110.0               70.0   \n",
       "1  158.0  76.2              140.0               80.0   \n",
       "2   53.0  82.5              180.0               60.0   \n",
       "3  164.0  90.6              120.0               70.0   \n",
       "4  154.0   8.5              180.0               80.0   \n",
       "\n",
       "  n_atendimentos_atencao_primaria n_atendimentos_hospital  \\\n",
       "0                               8                       9   \n",
       "1                               0                       6   \n",
       "2                               5                       2   \n",
       "3                               0                      27   \n",
       "4                              25                       0   \n",
       "\n",
       "                updated_at       tipo  \n",
       "0  2021-06-01 00:00:00.000  historico  \n",
       "1  2020-06-25 00:00:00.000  historico  \n",
       "2  2020-03-02 00:00:00.000  historico  \n",
       "3  2021-11-05 11:08:17.477  rotineiro  \n",
       "4  2020-11-11 00:00:00.000  historico  \n",
       "\n",
       "[5 rows x 35 columns]"
      ]
     },
     "execution_count": 23,
     "metadata": {},
     "output_type": "execute_result"
    }
   ],
   "source": [
    "raw_data = pd.read_csv(PATHS[\"input\"], encoding = 'utf-8')\n",
    "raw_data.head()"
   ]
  },
  {
   "cell_type": "markdown",
   "metadata": {},
   "source": [
    "Analisando o dataset, vemos que, por diversas vezes, temos corrupção de alguns dos caracteres:"
   ]
  },
  {
   "cell_type": "code",
   "execution_count": 24,
   "metadata": {},
   "outputs": [],
   "source": [
    "def find_broken_substrings(df: pd.DataFrame) -> set[str]:\n",
    "\n",
    "    broken_substrings = set()\n",
    "    broken_encoding_pattern = r'\\\\u00[a-zA-Z0-9][a-zA-Z0-9]'\n",
    "\n",
    "    # Procurando em cada célula do DataFrame uma substring de encoding quebrado\n",
    "    df.map(\n",
    "        lambda cell:\n",
    "            # Caso haja atualiza a lista de encodings de caracteres quebrados\n",
    "            broken_substrings.update(\n",
    "                re.findall(broken_encoding_pattern, cell)\n",
    "            ) if isinstance(cell, str) else None\n",
    "    )\n",
    "\n",
    "    return broken_substrings"
   ]
  },
  {
   "cell_type": "code",
   "execution_count": 25,
   "metadata": {},
   "outputs": [
    {
     "data": {
      "text/plain": [
       "{'\\\\u00d4',\n",
       " '\\\\u00e1',\n",
       " '\\\\u00e2',\n",
       " '\\\\u00e3',\n",
       " '\\\\u00e7',\n",
       " '\\\\u00e9',\n",
       " '\\\\u00ea',\n",
       " '\\\\u00ed',\n",
       " '\\\\u00f3',\n",
       " '\\\\u00f4',\n",
       " '\\\\u00fa'}"
      ]
     },
     "execution_count": 25,
     "metadata": {},
     "output_type": "execute_result"
    }
   ],
   "source": [
    "find_broken_substrings(raw_data)"
   ]
  },
  {
   "cell_type": "markdown",
   "metadata": {},
   "source": [
    "Isto aparenta indicar que, apesar de o encoding do arquivo realmente ser em UTF-8, alguns dos valores acabaram não sendo codificados corretamente. Ao analisarmos, vemos que **todos fazem parte do conjunto Latin-1 suplementar** do UTF-8 (especificamente do subconjunto de caracteres com sinais diacríticos, como acentos e cedilha).\n",
    "\n",
    "É possível que este erro possa ter sido causado por algum tipo de incompatibildade entre o sistema usado para os registros e a colação do banco de dados em que ele foi inserido, ou então causado por diferenças de implementação entre a codificação real na exportação os dados do BD e a plataforma em que ele foi carregado (neste caso, o Google Drive).\n",
    "\n",
    "Como o encoding estava correto, mas estes caracteres permaneciam não decodificados, tentar decodificar novamente em UTF-8 ou em outro padrão de encoding (como Latin-1). Assim, foi necessário aplicar uma solução mais \"primitiva\": mapear os códigos aos seus respectivos caracteres, e então substituí-los.\n",
    "\n",
    "Vale notar que isto claramente não seria uma solução de longo prazo para o consumo de um dataset como este em ambiente de produção. Caso isto ocorresse, idealmente deveria-se investigar o fluxo de dados da fonte (*data source*) até o depósito (*data sink*) para resolver os conflitos de encoding, ou pelo menos adicionar esta etapa ao pré-processamento antes do carregamento destes dados, mas como não é possível no contexto deste desafio, farei desta forma."
   ]
  },
  {
   "cell_type": "code",
   "execution_count": 26,
   "metadata": {},
   "outputs": [],
   "source": [
    "data = utils.correct_encoding(raw_data)"
   ]
  },
  {
   "cell_type": "code",
   "execution_count": 27,
   "metadata": {},
   "outputs": [
    {
     "data": {
      "text/plain": [
       "set()"
      ]
     },
     "execution_count": 27,
     "metadata": {},
     "output_type": "execute_result"
    }
   ],
   "source": [
    "find_broken_substrings(data)"
   ]
  },
  {
   "cell_type": "markdown",
   "metadata": {},
   "source": [
    "Como visto acima, agora não há mais problemas de encoding, e podemos analisar propriamente a distribuição de nossos dados."
   ]
  },
  {
   "cell_type": "markdown",
   "metadata": {},
   "source": [
    "# Analisando o dataset"
   ]
  },
  {
   "cell_type": "markdown",
   "metadata": {},
   "source": [
    "Vamos analisar os tipos de dados:"
   ]
  },
  {
   "cell_type": "code",
   "execution_count": 28,
   "metadata": {},
   "outputs": [
    {
     "data": {
      "text/plain": [
       "id_paciente                               object\n",
       "sexo                                      object\n",
       "obito                                     object\n",
       "bairro                                    object\n",
       "raca_cor                                  object\n",
       "ocupacao                                  object\n",
       "religiao                                  object\n",
       "luz_eletrica                              object\n",
       "data_cadastro                             object\n",
       "escolaridade                              object\n",
       "nacionalidade                             object\n",
       "renda_familiar                            object\n",
       "data_nascimento                           object\n",
       "em_situacao_de_rua                        object\n",
       "frequenta_escola                           int64\n",
       "meios_transporte                          object\n",
       "doencas_condicoes                         object\n",
       "identidade_genero                         object\n",
       "meios_comunicacao                         object\n",
       "orientacao_sexual                         object\n",
       "possui_plano_saude                        object\n",
       "em_caso_doenca_procura                    object\n",
       "situacao_profissional                     object\n",
       "vulnerabilidade_social                    object\n",
       "data_atualizacao_cadastro                 object\n",
       "familia_beneficiaria_auxilio_brasil       object\n",
       "crianca_matriculada_creche_pre_escola     object\n",
       "altura                                   float64\n",
       "peso                                     float64\n",
       "pressao_sistolica                        float64\n",
       "pressao_diastolica                       float64\n",
       "n_atendimentos_atencao_primaria            int64\n",
       "n_atendimentos_hospital                    int64\n",
       "updated_at                                object\n",
       "tipo                                      object\n",
       "dtype: object"
      ]
     },
     "execution_count": 28,
     "metadata": {},
     "output_type": "execute_result"
    }
   ],
   "source": [
    "data.dtypes"
   ]
  },
  {
   "cell_type": "markdown",
   "metadata": {},
   "source": [
    "Percebe-se que temos muito mais dados de natureza categórica que numérica. Estes primeiros terão que ser explorados mais a fundo, pois alguns destes podem ser estruturados diferentemente de outros.\n",
    "\n",
    "No entanto, antes disto, vamos apurar o \"perfil\" dos dados numéricos."
   ]
  },
  {
   "cell_type": "markdown",
   "metadata": {},
   "source": [
    "## Explorando dados numéricos"
   ]
  },
  {
   "cell_type": "code",
   "execution_count": 29,
   "metadata": {},
   "outputs": [],
   "source": [
    "num_data = data.select_dtypes(['int64', 'float64'])"
   ]
  },
  {
   "cell_type": "code",
   "execution_count": 30,
   "metadata": {},
   "outputs": [
    {
     "data": {
      "text/html": [
       "<div>\n",
       "<style scoped>\n",
       "    .dataframe tbody tr th:only-of-type {\n",
       "        vertical-align: middle;\n",
       "    }\n",
       "\n",
       "    .dataframe tbody tr th {\n",
       "        vertical-align: top;\n",
       "    }\n",
       "\n",
       "    .dataframe thead th {\n",
       "        text-align: right;\n",
       "    }\n",
       "</style>\n",
       "<table border=\"1\" class=\"dataframe\">\n",
       "  <thead>\n",
       "    <tr style=\"text-align: right;\">\n",
       "      <th></th>\n",
       "      <th>frequenta_escola</th>\n",
       "      <th>altura</th>\n",
       "      <th>peso</th>\n",
       "      <th>pressao_sistolica</th>\n",
       "      <th>pressao_diastolica</th>\n",
       "      <th>n_atendimentos_atencao_primaria</th>\n",
       "      <th>n_atendimentos_hospital</th>\n",
       "    </tr>\n",
       "  </thead>\n",
       "  <tbody>\n",
       "    <tr>\n",
       "      <th>count</th>\n",
       "      <td>100000.000000</td>\n",
       "      <td>99975.000000</td>\n",
       "      <td>99816.000000</td>\n",
       "      <td>99960.000000</td>\n",
       "      <td>99983.000000</td>\n",
       "      <td>100000.000000</td>\n",
       "      <td>100000.000000</td>\n",
       "    </tr>\n",
       "    <tr>\n",
       "      <th>mean</th>\n",
       "      <td>0.158190</td>\n",
       "      <td>142.693589</td>\n",
       "      <td>63.801629</td>\n",
       "      <td>129.544068</td>\n",
       "      <td>79.378207</td>\n",
       "      <td>5.542710</td>\n",
       "      <td>7.312930</td>\n",
       "    </tr>\n",
       "    <tr>\n",
       "      <th>std</th>\n",
       "      <td>0.364921</td>\n",
       "      <td>38.659345</td>\n",
       "      <td>35.594173</td>\n",
       "      <td>21.406429</td>\n",
       "      <td>21.062140</td>\n",
       "      <td>5.204464</td>\n",
       "      <td>9.801987</td>\n",
       "    </tr>\n",
       "    <tr>\n",
       "      <th>min</th>\n",
       "      <td>0.000000</td>\n",
       "      <td>0.000000</td>\n",
       "      <td>0.000000</td>\n",
       "      <td>0.000000</td>\n",
       "      <td>0.000000</td>\n",
       "      <td>0.000000</td>\n",
       "      <td>0.000000</td>\n",
       "    </tr>\n",
       "    <tr>\n",
       "      <th>25%</th>\n",
       "      <td>0.000000</td>\n",
       "      <td>145.000000</td>\n",
       "      <td>50.700000</td>\n",
       "      <td>120.000000</td>\n",
       "      <td>70.000000</td>\n",
       "      <td>0.000000</td>\n",
       "      <td>0.000000</td>\n",
       "    </tr>\n",
       "    <tr>\n",
       "      <th>50%</th>\n",
       "      <td>0.000000</td>\n",
       "      <td>158.000000</td>\n",
       "      <td>67.900000</td>\n",
       "      <td>130.000000</td>\n",
       "      <td>80.000000</td>\n",
       "      <td>5.000000</td>\n",
       "      <td>2.000000</td>\n",
       "    </tr>\n",
       "    <tr>\n",
       "      <th>75%</th>\n",
       "      <td>0.000000</td>\n",
       "      <td>165.000000</td>\n",
       "      <td>82.000000</td>\n",
       "      <td>140.000000</td>\n",
       "      <td>87.000000</td>\n",
       "      <td>9.000000</td>\n",
       "      <td>13.000000</td>\n",
       "    </tr>\n",
       "    <tr>\n",
       "      <th>max</th>\n",
       "      <td>1.000000</td>\n",
       "      <td>810.000000</td>\n",
       "      <td>998.000000</td>\n",
       "      <td>900.000000</td>\n",
       "      <td>921.000000</td>\n",
       "      <td>32.000000</td>\n",
       "      <td>77.000000</td>\n",
       "    </tr>\n",
       "  </tbody>\n",
       "</table>\n",
       "</div>"
      ],
      "text/plain": [
       "       frequenta_escola        altura          peso  pressao_sistolica  \\\n",
       "count     100000.000000  99975.000000  99816.000000       99960.000000   \n",
       "mean           0.158190    142.693589     63.801629         129.544068   \n",
       "std            0.364921     38.659345     35.594173          21.406429   \n",
       "min            0.000000      0.000000      0.000000           0.000000   \n",
       "25%            0.000000    145.000000     50.700000         120.000000   \n",
       "50%            0.000000    158.000000     67.900000         130.000000   \n",
       "75%            0.000000    165.000000     82.000000         140.000000   \n",
       "max            1.000000    810.000000    998.000000         900.000000   \n",
       "\n",
       "       pressao_diastolica  n_atendimentos_atencao_primaria  \\\n",
       "count        99983.000000                    100000.000000   \n",
       "mean            79.378207                         5.542710   \n",
       "std             21.062140                         5.204464   \n",
       "min              0.000000                         0.000000   \n",
       "25%             70.000000                         0.000000   \n",
       "50%             80.000000                         5.000000   \n",
       "75%             87.000000                         9.000000   \n",
       "max            921.000000                        32.000000   \n",
       "\n",
       "       n_atendimentos_hospital  \n",
       "count            100000.000000  \n",
       "mean                  7.312930  \n",
       "std                   9.801987  \n",
       "min                   0.000000  \n",
       "25%                   0.000000  \n",
       "50%                   2.000000  \n",
       "75%                  13.000000  \n",
       "max                  77.000000  "
      ]
     },
     "execution_count": 30,
     "metadata": {},
     "output_type": "execute_result"
    }
   ],
   "source": [
    "num_data.describe()"
   ]
  },
  {
   "cell_type": "markdown",
   "metadata": {},
   "source": [
    "### Validez dos dados\n",
    "\n",
    "Esta visão dos dados já nos dá alguma informação. Percebemos que a maioria dos registros numéricos tem algum tipo de preenchimento, o que é bom à primeira vista, pois pode indicar que pelo menos estes dados possam ser utilizados para algum tipo de análise. Resta saber quantos dos valores preenchidos são realmente válidos.\n",
    "\n",
    "Para este último ponto, vou redirecionar a atenção [à documentação disponibilizada pelo desafio](https://docs.google.com/spreadsheets/d/1xZKK1JJmZzWPONzpPuwAnhOYW2duwFkf/edit?gid=1923416656#gid=1923416656). Na descrição do campo *_altura_*, está registrado apenas \"Altura medida\". Pelos valores dos quartis do campo (25%, 50% e 75%, respectivamente), podemos inferir que está medido em centímetros, tais que o primeiro quartil seria 145 cm, o segundo 158 cm e o terceiro 165 cm. No entanto, dado este padrão, que lógica há no fato de que o valor **_máximo_** para o campo é 810?\n",
    "\n",
    "Pode até ser de que a medida tenha sido acidentalmente registrada segundo o sistema imperial de medidas (dos EUA) devido ao paciente ter sido um estrangeiro, e sua altura real ser 8'10\" (2,69 m), mas isto é altamente improvável dado que o récorde histórico de altura humana é de 8'11\". Igualmente, nenhum ser humano pode pesar 900 Kg, e um coração humano é incapaz de suportar um máximo de pressão de 900 mmHg de sístole, muito menos 921 de diástole. Assim, fica claro de que alguns registros claramente são _outliers_ estatísticos devido a erros de alguma natureza (provavelmente durante o registro).\n",
    "\n",
    "Geralmente, a forma de lidar com estes casos é manter estes registros e removê-los da consideração de um projeto através de análise estatística, mas em última instância é uma decisão a nível de arquitetura entender se eles deveriam ser mantidos ou removidos. Ademais, deveria ser associado aos registros algum tipo de documentação ou preferencialmente um metadado descrevendo as unidades de medida para cada dado numérico — percebe-se, claramente, que alguns dos campos são medições em uma escala numérica, enquanto outros, como `frequenta_escola`, são valores booleanos (verdadeiro ou falso) codificados como 0 ou 1.\n",
    "\n",
    "Neste caso, optarei por manter um conjunto de dados maior, e deixarei estas informações conforme estão."
   ]
  },
  {
   "cell_type": "markdown",
   "metadata": {},
   "source": [
    "## Explorando dados categóricos"
   ]
  },
  {
   "cell_type": "markdown",
   "metadata": {},
   "source": [
    "### Padrões diferentes para mesmo tipo de dado\n",
    "\n",
    "Ainda no tópico de valores booleanos, é curioso notar que, enquanto `frequenta_escola` é registrado numericamente, os seguintes campos, que também aparentam ser booleanos pelas suas descrições, são categóricos:\n",
    "\n",
    "- `obito`\n",
    "- `luz_eletrica`\n",
    "- `em_situacao_de_rua`\n",
    "- `possui_plano_saude`\n",
    "- `familia_beneficiaria_auxilio_brasil`\n",
    "- `crianca_matriculada_creche_pre_escola`\n",
    "\n",
    "Em todos estes, assim como em `frequenta_escola`, suas descrições começam como \"Indicação _se_ [...]\", de onde podemos inferir que é um indicador sim/não. Vamos olhar todos estes campos ao mesmo tempo, comparando-os entre si."
   ]
  },
  {
   "cell_type": "code",
   "execution_count": 31,
   "metadata": {},
   "outputs": [
    {
     "data": {
      "text/html": [
       "<div>\n",
       "<style scoped>\n",
       "    .dataframe tbody tr th:only-of-type {\n",
       "        vertical-align: middle;\n",
       "    }\n",
       "\n",
       "    .dataframe tbody tr th {\n",
       "        vertical-align: top;\n",
       "    }\n",
       "\n",
       "    .dataframe thead th {\n",
       "        text-align: right;\n",
       "    }\n",
       "</style>\n",
       "<table border=\"1\" class=\"dataframe\">\n",
       "  <thead>\n",
       "    <tr style=\"text-align: right;\">\n",
       "      <th></th>\n",
       "      <th>obito</th>\n",
       "      <th>luz_eletrica</th>\n",
       "      <th>em_situacao_de_rua</th>\n",
       "      <th>frequenta_escola</th>\n",
       "      <th>possui_plano_saude</th>\n",
       "      <th>familia_beneficiaria_auxilio_brasil</th>\n",
       "      <th>crianca_matriculada_creche_pre_escola</th>\n",
       "    </tr>\n",
       "  </thead>\n",
       "  <tbody>\n",
       "    <tr>\n",
       "      <th>0</th>\n",
       "      <td>0</td>\n",
       "      <td>True</td>\n",
       "      <td>0</td>\n",
       "      <td>0</td>\n",
       "      <td>False</td>\n",
       "      <td>0</td>\n",
       "      <td>0</td>\n",
       "    </tr>\n",
       "    <tr>\n",
       "      <th>1</th>\n",
       "      <td>0</td>\n",
       "      <td>1</td>\n",
       "      <td>0</td>\n",
       "      <td>0</td>\n",
       "      <td>1</td>\n",
       "      <td>1</td>\n",
       "      <td>0</td>\n",
       "    </tr>\n",
       "    <tr>\n",
       "      <th>2</th>\n",
       "      <td>0</td>\n",
       "      <td>1</td>\n",
       "      <td>0</td>\n",
       "      <td>0</td>\n",
       "      <td>0</td>\n",
       "      <td>0</td>\n",
       "      <td>0</td>\n",
       "    </tr>\n",
       "    <tr>\n",
       "      <th>3</th>\n",
       "      <td>False</td>\n",
       "      <td>1</td>\n",
       "      <td>0</td>\n",
       "      <td>0</td>\n",
       "      <td>0</td>\n",
       "      <td>1</td>\n",
       "      <td>1</td>\n",
       "    </tr>\n",
       "    <tr>\n",
       "      <th>4</th>\n",
       "      <td>0</td>\n",
       "      <td>True</td>\n",
       "      <td>0</td>\n",
       "      <td>1</td>\n",
       "      <td>0</td>\n",
       "      <td>0</td>\n",
       "      <td>0</td>\n",
       "    </tr>\n",
       "  </tbody>\n",
       "</table>\n",
       "</div>"
      ],
      "text/plain": [
       "   obito luz_eletrica em_situacao_de_rua  frequenta_escola possui_plano_saude  \\\n",
       "0      0         True                  0                 0              False   \n",
       "1      0            1                  0                 0                  1   \n",
       "2      0            1                  0                 0                  0   \n",
       "3  False            1                  0                 0                  0   \n",
       "4      0         True                  0                 1                  0   \n",
       "\n",
       "  familia_beneficiaria_auxilio_brasil crianca_matriculada_creche_pre_escola  \n",
       "0                                   0                                     0  \n",
       "1                                   1                                     0  \n",
       "2                                   0                                     0  \n",
       "3                                   1                                     1  \n",
       "4                                   0                                     0  "
      ]
     },
     "execution_count": 31,
     "metadata": {},
     "output_type": "execute_result"
    }
   ],
   "source": [
    "data[[\n",
    "    \"obito\",\n",
    "    \"luz_eletrica\", \n",
    "    \"em_situacao_de_rua\", \n",
    "    \"frequenta_escola\", \n",
    "    \"possui_plano_saude\", \n",
    "    \"familia_beneficiaria_auxilio_brasil\", \n",
    "    \"crianca_matriculada_creche_pre_escola\"\n",
    "]].head()"
   ]
  },
  {
   "cell_type": "markdown",
   "metadata": {},
   "source": [
    "Percebe-se que estes dados, todos de mesma natureza, não possuem padrão nenhum. Seria uma inferência relativamente segura supor que 1 ou qualquer variação de \"true\" ou \"verdadeiro\" equivaleria a um valor que indicasse verdade lógica, e que 0 ou qualquer variação de \"false\" ou \"falso\" indicasse falsidade lógica.\n",
    "\n",
    "Assim vendo, poderíamos fazer uma etapa de conformidade, garantindo que todos estes campos sigam a mesma estrutura lógica. Contudo, é importante notar que isto deveria ser verificado tanto na documentação de cada possível fonte destes dados, quanto em possíveis versões anteriores do pipeline de dados já existente (caso já tenha sido criada anteriormente uma etapa de conformidade com regras diferentes).\n",
    "\n",
    "Neste caso, como não sabemos qual será o SGBD utilizado para guardar estes dados, vou convertê-los em 0 e 1, pois nem todo SGBD tem um tipo `BOOLEAN` (ou algo do gênero), mas como o tipo `BIT` é definido no ANSI-SQL, praticamente todos o implementam, sendo uma solução relativamente agnóstica."
   ]
  },
  {
   "cell_type": "code",
   "execution_count": 32,
   "metadata": {},
   "outputs": [],
   "source": [
    "data = data.apply(utils.conform_booleans)"
   ]
  },
  {
   "cell_type": "code",
   "execution_count": 33,
   "metadata": {},
   "outputs": [
    {
     "name": "stdout",
     "output_type": "stream",
     "text": [
      "[0 1]\n",
      "[1 0]\n",
      "[0 1]\n",
      "[0 1]\n",
      "[0 1]\n",
      "[0 1]\n",
      "[0 1]\n"
     ]
    }
   ],
   "source": [
    "bool_columns = [\n",
    "    \"obito\",\n",
    "    \"luz_eletrica\", \n",
    "    \"em_situacao_de_rua\", \n",
    "    \"frequenta_escola\", \n",
    "    \"possui_plano_saude\", \n",
    "    \"familia_beneficiaria_auxilio_brasil\", \n",
    "    \"crianca_matriculada_creche_pre_escola\"\n",
    "]\n",
    "\n",
    "for col in bool_columns:\n",
    "    print(data[col].unique())"
   ]
  },
  {
   "cell_type": "markdown",
   "metadata": {},
   "source": [
    "Vale lembrar que, apesar de estes dados serem _representados_ por números, eles são dados **categóricos**, pois sua forma original não é um valor, mas um sim ou um não."
   ]
  },
  {
   "cell_type": "markdown",
   "metadata": {},
   "source": [
    "## Dados multivalorados"
   ]
  }
 ],
 "metadata": {
  "kernelspec": {
   "display_name": "Python 3",
   "language": "python",
   "name": "python3"
  },
  "language_info": {
   "codemirror_mode": {
    "name": "ipython",
    "version": 3
   },
   "file_extension": ".py",
   "mimetype": "text/x-python",
   "name": "python",
   "nbconvert_exporter": "python",
   "pygments_lexer": "ipython3",
   "version": "3.12.5"
  }
 },
 "nbformat": 4,
 "nbformat_minor": 2
}
